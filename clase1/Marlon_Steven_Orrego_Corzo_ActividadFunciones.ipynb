{
  "nbformat": 4,
  "nbformat_minor": 0,
  "metadata": {
    "colab": {
      "name": "Marlon Steven Orrego Corzo - ActividadFunciones.ipynb",
      "provenance": [],
      "collapsed_sections": [],
      "include_colab_link": true
    },
    "kernelspec": {
      "name": "python3",
      "display_name": "Python 3"
    },
    "language_info": {
      "name": "python"
    }
  },
  "cells": [
    {
      "cell_type": "markdown",
      "metadata": {
        "id": "view-in-github",
        "colab_type": "text"
      },
      "source": [
        "<a href=\"https://colab.research.google.com/github/MarlonOC/pymn2/blob/main/clase1/Marlon_Steven_Orrego_Corzo_ActividadFunciones.ipynb\" target=\"_parent\"><img src=\"https://colab.research.google.com/assets/colab-badge.svg\" alt=\"Open In Colab\"/></a>"
      ]
    },
    {
      "cell_type": "markdown",
      "metadata": {
        "id": "Onn3PC8BICXL"
      },
      "source": [
        " **En los enlaces abajo se usan enlaces de wikipedia por conveniencia. La información en wikipedia debe ser manejada con cautela ya que no necesariamente ha sido verificada por pares expertos en los temas. \n",
        "En este caso el procedimiento correcto es consultar libros o artículos académicos .** \n",
        "\n",
        "*Recuerde compartir el notebook con las personas de su grupo*\n",
        "\n",
        "\n",
        "---\n",
        "\n",
        "\n",
        "\n",
        "---\n",
        "\n",
        "\n",
        "#Problemas\n",
        "Escriba funciones para \n",
        "\n",
        "1.   Dado un número entero, este sea clarificado según como : perfecto, defectivo, abundante. Use su número de identificación.*(**Opcionalmente** considere en la clasificación como semi perfecto)*. Puede consultar\n",
        " https://es.wikipedia.org/wiki/N%C3%BAmero_perfecto\n",
        "2.  Dado un número de 4 digitos, calcule cuantas iteraciones de Kaprekar toma este para llegar a la contante de  Kaprekar de cuatro dígitos : 6174. Consulte https://es.wikipedia.org/wiki/Constante_de_Kaprekar .**Opcional::¿Existe una constate de kaprekar de 5 dititos?**\n",
        "\n",
        "3. ¿Cuál es el propósito de la siguiente función?\n",
        "\n",
        "```\n",
        "def funcion5(l):\n",
        "  x = []\n",
        "  for a in l:\n",
        "    if a not in x:\n",
        "      x.append(a)\n",
        "  return x\n",
        "```\n",
        "4. \n",
        "¿Cuál es el propósito de la siguiente función?\n",
        "\n",
        "```\n",
        "vendidos = [\"Espresso\", \"Espresso\", \"Latte\",\"Cappuccino\", \"Mocha\", \"Espresso\", \"Latte\"]\n",
        "\n",
        "\n",
        "def contar_vendidos(lista, item=\"Espresso\"):\n",
        "\t   n = lista.count(item)\n",
        "\t   print(\"{} {}s vendidos.\".format(n, item))\n",
        "\n",
        "contar_vendidos(vendidos)\n",
        "```\n",
        "\n",
        "\n",
        "\n",
        "5. En internet se encuentra la función que decide primalidad \n",
        "https://www.w3resource.com/python-exercises/python-functions-exercise-9.php\n",
        " \n",
        "Análise visualmente esta función y comente sus ventajas e inconvenientes.(No es necesario hacer pruebas de tiempo o uso de memoria).\n",
        "\n",
        "6.  Escriba una función que imprima las primeras n filas del triángulo de Pascal https://es.wikipedia.org/wiki/Tri%C3%A1ngulo_de_Pascal\n",
        "\n"
      ]
    },
    {
      "cell_type": "markdown",
      "metadata": {
        "id": "xBN6N-Q_iXQC"
      },
      "source": [
        "#Soluciones"
      ]
    },
    {
      "cell_type": "markdown",
      "metadata": {
        "id": "7Ia5Gq2--A-v"
      },
      "source": [
        "# Problema 1  \n",
        "**Número perfecto, defectivo o abundante**"
      ]
    },
    {
      "cell_type": "code",
      "source": [
        "#Clasificación de un número entero\n",
        "def clasificar(x):\n",
        "    i=1\n",
        "    acumulado=0\n",
        "    while i < x:\n",
        "        if x%i==0:\n",
        "            acumulado=acumulado + i\n",
        "            i=i+1\n",
        "        else:\n",
        "            i=i+1\n",
        "    if acumulado<x:\n",
        "        return print(x,'es un número defectivo')\n",
        "    elif acumulado==x:\n",
        "        return print(x,'es un número perfecto')\n",
        "    elif acumulado>x:\n",
        "        return print(x,'es un número abundante')\n",
        "    \n",
        "    return "
      ],
      "metadata": {
        "id": "T45hKjeGX8fA"
      },
      "execution_count": null,
      "outputs": []
    },
    {
      "cell_type": "code",
      "source": [
        "clasificar(1031180411)"
      ],
      "metadata": {
        "colab": {
          "base_uri": "https://localhost:8080/"
        },
        "id": "UqrSKGU6ZyXB",
        "outputId": "001d003a-330f-45dd-a8bf-e0bdeccbeb58"
      },
      "execution_count": null,
      "outputs": [
        {
          "output_type": "stream",
          "name": "stdout",
          "text": [
            "1031180411 es un número defectivo\n"
          ]
        }
      ]
    },
    {
      "cell_type": "markdown",
      "source": [
        "# Problema 2:  "
      ],
      "metadata": {
        "id": "-VUwhX7LsYVq"
      }
    },
    {
      "cell_type": "markdown",
      "source": [
        "**Constante de Kaprekar**  \n",
        "  \n",
        "    \n",
        "Para hacer uso de esta función tenga en cuenta las siguientes indicaciones:  \n",
        "$1.$ El número ingresado debe ser de cuatro cifras.  \n",
        "$2.$ El número no puede tener más de dos dígitos iguales "
      ],
      "metadata": {
        "id": "goI9JIqwYDQ3"
      }
    },
    {
      "cell_type": "code",
      "source": [
        "# Función constante de Kaprekar\n",
        "def kaprekar(x):\n",
        "    numero_ingresado=int(x)\n",
        "    intento=0\n",
        "    while numero_ingresado != 6174:\n",
        "        str_kaprekar=str(numero_ingresado)\n",
        "        a=int(str_kaprekar[0])\n",
        "        b=int(str_kaprekar[1])\n",
        "        c=int(str_kaprekar[2])\n",
        "        d=int(str_kaprekar[3])\n",
        "        lista=[a,b,c,d]\n",
        "        while len(lista)==4:\n",
        "            if a>=b and c>=d:\n",
        "                if a>=c:\n",
        "                    maximo=lista[0]\n",
        "                    a=maximo\n",
        "                    maximo=str(maximo)\n",
        "                    lista.remove(a)\n",
        "                else:\n",
        "                    maximo=lista[2]\n",
        "                    a=maximo\n",
        "                    maximo=str(maximo)\n",
        "                    lista.remove(a)\n",
        "            elif a>=b and d>=c:\n",
        "                if a>=d:\n",
        "                    maximo=lista[0]\n",
        "                    a=maximo\n",
        "                    maximo=str(maximo)\n",
        "                    lista.remove(a)\n",
        "                else:\n",
        "                    maximo=lista[3]\n",
        "                    a=maximo\n",
        "                    maximo=str(maximo)\n",
        "                    lista.remove(a)\n",
        "            elif b>=a and c>=d:\n",
        "                if b>=c:\n",
        "                    maximo=lista[1]\n",
        "                    a=maximo\n",
        "                    maximo=str(maximo)\n",
        "                    lista.remove(a)\n",
        "                else:\n",
        "                    maximo=lista[2]\n",
        "                    a=maximo\n",
        "                    maximo=str(maximo)\n",
        "                    lista.remove(a)\n",
        "            elif b>=a and d>=c:\n",
        "                if b>=d:\n",
        "                    maximo=lista[1]\n",
        "                    a=maximo\n",
        "                    maximo=str(maximo)\n",
        "                    lista.remove(a)\n",
        "                else:\n",
        "                    maximo=lista[3]\n",
        "                    a=maximo\n",
        "                    maximo=str(maximo)\n",
        "                    lista.remove(a)\n",
        "        minuendo=maximo        \n",
        "        a=int(lista[0])\n",
        "        b=int(lista[1])\n",
        "        c=int(lista[2])\n",
        "        while len(lista)==3:    \n",
        "            if a>=b:\n",
        "                if a>=c:\n",
        "                    maximo2=lista[0]\n",
        "                    a=maximo2\n",
        "                    maximo2=str(maximo2)\n",
        "                    lista.remove(a)\n",
        "                else:\n",
        "                    maximo2=lista[2]\n",
        "                    a=maximo2\n",
        "                    maximo2=str(maximo2)\n",
        "                    lista.remove(a)\n",
        "            elif b>=a:\n",
        "                if b>=c:\n",
        "                    maximo2=lista[1]\n",
        "                    a=maximo2\n",
        "                    maximo2=str(maximo2)\n",
        "                    lista.remove(a)\n",
        "                else:\n",
        "                    maximo2=lista[2]\n",
        "                    a=maximo\n",
        "                    maximo2=str(maximo2)\n",
        "                    lista.remove(a)\n",
        "        minuendo=minuendo + maximo2\n",
        "        a=int(lista[0])\n",
        "        b=int(lista[1])\n",
        "        while len(lista)==2:    \n",
        "            if a>=b:\n",
        "                maximo3=lista[0]\n",
        "                a=maximo3\n",
        "                maximo3=str(maximo3)\n",
        "                lista.remove(a)\n",
        "            else:\n",
        "                maximo3=lista[1]\n",
        "                a=maximo3\n",
        "                maximo3=str(maximo3)\n",
        "                lista.remove(a)\n",
        "        a=int(lista[0])\n",
        "        b=str(a)\n",
        "        minuendo=minuendo + maximo3 + b\n",
        "        sustraendo=b + maximo3 + maximo2 + maximo\n",
        "        constante_mayor=int(minuendo)\n",
        "        constante_menor=int(sustraendo)\n",
        "        resultado=constante_mayor - constante_menor\n",
        "        numero_ingresado=resultado\n",
        "        intento=intento + 1\n",
        "\n",
        "    \n",
        "    return print('El número de intentos requeridos para llegar a la constante de Kaprekar fue de',intento, 'intentos')          \n",
        "            "
      ],
      "metadata": {
        "id": "LbWl8Xm_YBGz"
      },
      "execution_count": null,
      "outputs": []
    },
    {
      "cell_type": "code",
      "source": [
        "kaprekar(4725)"
      ],
      "metadata": {
        "id": "X-ep25mIIwuY",
        "outputId": "e8a4976b-142c-483c-e5d9-85684bd96ddf",
        "colab": {
          "base_uri": "https://localhost:8080/"
        }
      },
      "execution_count": null,
      "outputs": [
        {
          "output_type": "stream",
          "name": "stdout",
          "text": [
            "El número de intentos requeridos para llegar a la constante de Kaprekar fue de 7 intentos\n"
          ]
        }
      ]
    },
    {
      "cell_type": "markdown",
      "source": [
        "# Problema 3:"
      ],
      "metadata": {
        "id": "CTiKsEH7s0Jm"
      }
    },
    {
      "cell_type": "markdown",
      "source": [
        "El proposito de la **funcion5** es crear una lista con los primeros $l-1$ números, comenzando desde el número $0$ ."
      ],
      "metadata": {
        "id": "PuQDaBX1s5sA"
      }
    },
    {
      "cell_type": "markdown",
      "source": [
        "# Problema 4:"
      ],
      "metadata": {
        "id": "bdNQszXf0oMG"
      }
    },
    {
      "cell_type": "markdown",
      "source": [
        "El proposito de la función **contar_vendidos** es, en este caso particular, contar el número de veces que aparece el elemento \"Espresso\" en la lista vendidos.  \n",
        "Pero también podemos hacer uso de esta función para contar el número de veces que aparece algún otro elemento de la lista vendidos, modificando el argumento item de la función. Por ejemplo haciendo item=\"Latte\"."
      ],
      "metadata": {
        "id": "ngJKK0Vd0rfQ"
      }
    },
    {
      "cell_type": "markdown",
      "source": [
        "# Problema 5:"
      ],
      "metadata": {
        "id": "O9RuAFvK3ulD"
      }
    },
    {
      "cell_type": "markdown",
      "source": [
        "**Solución 1**  \n",
        "**Ventaja:** Cumple con el proposito de identificar si un número es primo o no.  \n",
        "**Desventajas:** Para un número $ x\\in$ $[3,n]$ esta función divide a dicho número entre todos los números $\\mathbb{Z}^+$ anteriores a él hasta llegar al número 2. Entonces, por ejemplo, para saber si el número 1327 es primo esta función divide a 1327 por todos los números $i \\in [2,1327)$, osea divide al número 1325 veces.  \n",
        "**Solución 2**  \n",
        "**Ventajas:** Es una función mucho más eficiente. Si el número ingresado  $x$ es par, basta con comprobar que es divisible por dos para mostrar que no es primo. Si es un número ingresado $x$ es impar entonces la función divide al número por todos los  $\\mathbb{Z}^+$ impares desde 3 hasta $\\sqrt{n}+1$, osea divide al número una cantidad de veces considerablemente menor, comparado con la función anterior.\n",
        "    \n"
      ],
      "metadata": {
        "id": "ld_ysJ-N3x5U"
      }
    },
    {
      "cell_type": "markdown",
      "source": [
        "# Problema 6:"
      ],
      "metadata": {
        "id": "vNr-kNoeZIDQ"
      }
    },
    {
      "cell_type": "markdown",
      "source": [
        "**Triángulo de Pascal**"
      ],
      "metadata": {
        "id": "NXvsB3bC3fP9"
      }
    },
    {
      "cell_type": "code",
      "source": [
        "# Imprimir las primeras n filas del triángulo de Pascal\n",
        "def pascal(x):  \n",
        "    n=int(x)\n",
        "    fila=[]  \n",
        "    z=0\n",
        "    for i in range(n):\n",
        "        fila.append([])\n",
        "        \n",
        "        \n",
        "    for i in range(n):\n",
        "        for y in range(i+1):\n",
        "            if y==0 or y==i:\n",
        "                fila[i].append(1)\n",
        "            else:\n",
        "                z=fila[i-1][y]+fila[i-1][y-1]\n",
        "                fila[i].append(z)\n",
        "        print(str(fila[i]))        \n",
        "    return"
      ],
      "metadata": {
        "id": "vC-UAjTgZZkc"
      },
      "execution_count": null,
      "outputs": []
    },
    {
      "cell_type": "code",
      "source": [
        "pascal(5)"
      ],
      "metadata": {
        "id": "KaWgY8fsJ5w_"
      },
      "execution_count": null,
      "outputs": []
    }
  ]
}